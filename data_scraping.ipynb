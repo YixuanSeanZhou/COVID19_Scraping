{
 "cells": [
  {
   "cell_type": "code",
   "execution_count": 19,
   "metadata": {},
   "outputs": [],
   "source": [
    "import datetime as dt\n",
    "import selenium\n",
    "from selenium import webdriver\n",
    "from selenium.webdriver.common.keys import Keys\n",
    "from selenium.webdriver.common.by import By\n",
    "from selenium.webdriver.common.action_chains import ActionChains\n",
    "import time\n",
    "import pandas as pd\n",
    "import numpy as np"
   ]
  },
  {
   "cell_type": "markdown",
   "metadata": {},
   "source": [
    "#### Set Up Data CSVs"
   ]
  },
  {
   "cell_type": "code",
   "execution_count": 2,
   "metadata": {},
   "outputs": [
    {
     "ename": "NameError",
     "evalue": "name 'Proviences' is not defined",
     "output_type": "error",
     "traceback": [
      "\u001b[0;31m---------------------------------------------------------------------------\u001b[0m",
      "\u001b[0;31mNameError\u001b[0m                                 Traceback (most recent call last)",
      "\u001b[0;32m<ipython-input-2-3ee91e38ee56>\u001b[0m in \u001b[0;36m<module>\u001b[0;34m\u001b[0m\n\u001b[1;32m      2\u001b[0m \u001b[0mresult_df\u001b[0m\u001b[0;34m.\u001b[0m\u001b[0mto_csv\u001b[0m\u001b[0;34m(\u001b[0m\u001b[0;34m'Provience_ALL_Day_Data.csv'\u001b[0m\u001b[0;34m,\u001b[0m \u001b[0mmode\u001b[0m \u001b[0;34m=\u001b[0m \u001b[0;34m'w'\u001b[0m\u001b[0;34m,\u001b[0m \u001b[0mindex\u001b[0m \u001b[0;34m=\u001b[0m \u001b[0;32mFalse\u001b[0m\u001b[0;34m,\u001b[0m \u001b[0mheader\u001b[0m\u001b[0;34m=\u001b[0m\u001b[0;32mTrue\u001b[0m\u001b[0;34m,\u001b[0m \u001b[0mencoding\u001b[0m \u001b[0;34m=\u001b[0m \u001b[0;34m'utf-8-sig'\u001b[0m\u001b[0;34m)\u001b[0m\u001b[0;34m\u001b[0m\u001b[0;34m\u001b[0m\u001b[0m\n\u001b[1;32m      3\u001b[0m \u001b[0;34m\u001b[0m\u001b[0m\n\u001b[0;32m----> 4\u001b[0;31m \u001b[0;32mfor\u001b[0m \u001b[0mprov\u001b[0m \u001b[0;32min\u001b[0m \u001b[0mProviences\u001b[0m\u001b[0;34m:\u001b[0m\u001b[0;34m\u001b[0m\u001b[0;34m\u001b[0m\u001b[0m\n\u001b[0m\u001b[1;32m      5\u001b[0m     \u001b[0mname\u001b[0m \u001b[0;34m=\u001b[0m \u001b[0mprov\u001b[0m \u001b[0;34m+\u001b[0m \u001b[0;34m\"_Day_Data.csv\"\u001b[0m\u001b[0;34m\u001b[0m\u001b[0;34m\u001b[0m\u001b[0m\n\u001b[1;32m      6\u001b[0m     \u001b[0mresult_df\u001b[0m \u001b[0;34m=\u001b[0m \u001b[0mpd\u001b[0m\u001b[0;34m.\u001b[0m\u001b[0mDataFrame\u001b[0m\u001b[0;34m(\u001b[0m\u001b[0mcolumns\u001b[0m\u001b[0;34m=\u001b[0m\u001b[0;34m[\u001b[0m\u001b[0;34m'Certain'\u001b[0m\u001b[0;34m,\u001b[0m \u001b[0;34m'Death'\u001b[0m\u001b[0;34m,\u001b[0m \u001b[0;34m'Cured'\u001b[0m\u001b[0;34m,\u001b[0m \u001b[0;34m'Date'\u001b[0m\u001b[0;34m]\u001b[0m\u001b[0;34m)\u001b[0m\u001b[0;34m\u001b[0m\u001b[0;34m\u001b[0m\u001b[0m\n",
      "\u001b[0;31mNameError\u001b[0m: name 'Proviences' is not defined"
     ]
    }
   ],
   "source": [
    "result_df = pd.DataFrame(columns=['Providence', 'Certain', 'Death', 'Cured', 'Date'])\n",
    "result_df.to_csv('Provience_ALL_Day_Data.csv', mode = 'w', index = False, header=True, encoding = 'utf-8-sig')\n",
    "\n",
    "for prov in Proviences:\n",
    "    name = prov + \"_Day_Data.csv\"\n",
    "    result_df = pd.DataFrame(columns=['Certain', 'Death', 'Cured', 'Date'])\n",
    "    result_df.to_csv(name, mode = 'w', index = False, header=True, encoding = 'utf-8-sig')"
   ]
  },
  {
   "cell_type": "code",
   "execution_count": 11,
   "metadata": {},
   "outputs": [],
   "source": [
    "result_df = pd.DataFrame(columns=['Date', 'Certain_Still', 'Suspect_Still', 'Cured', 'Certain_Total', 'Sever_Still', 'Death'])\n",
    "result_df.to_csv('China_Data.csv', mode = 'w', index = False, header=True, encoding = 'utf-8-sig')"
   ]
  },
  {
   "cell_type": "markdown",
   "metadata": {},
   "source": [
    "#### Open the webpage"
   ]
  },
  {
   "cell_type": "code",
   "execution_count": 10,
   "metadata": {},
   "outputs": [],
   "source": [
    "#open the first window\n",
    "driver = webdriver.Chrome()\n",
    "driver.maximize_window()\n",
    "driver.get(\"https://ncov.dxy.cn/ncovh5/view/pneumonia\")\n",
    "handle_list = driver.window_handles\n",
    "\n",
    "time.sleep(0.5)"
   ]
  },
  {
   "cell_type": "markdown",
   "metadata": {},
   "source": [
    "#### Get Data for Overall Country"
   ]
  },
  {
   "cell_type": "code",
   "execution_count": 4,
   "metadata": {},
   "outputs": [],
   "source": [
    "data = []  # certain, suspect, serious, died, cured, date\n",
    "data.append(dt.date.today())\n",
    "result_df = pd.DataFrame(columns=['Date', 'Certain_Still', 'Suspect_Still', 'Cured', 'Certain_Total', 'Sever_Still', 'Death'])\n",
    "\n",
    "list_data = driver.find_element_by_class_name('count___3GCdh')\n",
    "items = list_data.find_elements_by_tag_name('strong')\n",
    "\n",
    "\n",
    "for item in items:\n",
    "    data.append(item.text)\n",
    "\n",
    "result_dict = {\n",
    "    'Date' : data[0],\n",
    "    'Certain_Still' : data[1],\n",
    "    'Suspect_Still' : data[2],\n",
    "    'Cured' : data[3],\n",
    "    'Certain_Total' : data[4],\n",
    "    'Sever_Still' : data[5],\n",
    "    'Death' : data[6],\n",
    "}\n",
    "\n",
    "result_df = result_df.append(result_dict, ignore_index=True)\n",
    "result_df.to_csv('China_Data.csv', mode = 'a', index = False, header=False, encoding = 'utf-8-sig')"
   ]
  },
  {
   "cell_type": "markdown",
   "metadata": {},
   "source": [
    "#### Get Data for specific area of the country"
   ]
  },
  {
   "cell_type": "code",
   "execution_count": 6,
   "metadata": {},
   "outputs": [],
   "source": [
    "areas_data = [[]]\n",
    "area_data = []\n",
    "Proviences = []"
   ]
  },
  {
   "cell_type": "code",
   "execution_count": 7,
   "metadata": {},
   "outputs": [],
   "source": [
    "div_unfold = driver.find_element_by_class_name('expand___wz_07')\n",
    "div_unfold_p = div_unfold.find_elements_by_tag_name('p')\n",
    "result_df = pd.DataFrame(columns=['Provience''Certain', 'Death', 'Cured', 'Date'])\n",
    "counter = 0\n",
    "result = []\n",
    "result_dic = {}\n",
    "for p in div_unfold_p:\n",
    "    if (counter == 0):\n",
    "        Proviences.append(p.text)\n",
    "    if (p.text == ''):\n",
    "        result.append('0')\n",
    "    else:\n",
    "        result.append(p.text)\n",
    "    counter += 1\n",
    "    if (counter == 4) :\n",
    "        break\n",
    "result_dic = {\n",
    "    'Providence' : result[0],\n",
    "    'Certain': result[1],\n",
    "    'Death': result[2],\n",
    "    'Cured': result[3],\n",
    "    'Date': dt.date.today()\n",
    "}\n",
    "result_df = result_df.append(result_dic, ignore_index=True)\n",
    "\n",
    "div_folds = driver.find_elements_by_class_name('fold___xVOZX')\n",
    "counter = 0\n",
    "\n",
    "for div_fold in div_folds:\n",
    "    result = []\n",
    "    div_ps = div_fold.find_elements_by_tag_name('p')\n",
    "    counter = 0\n",
    "    for p in div_ps:\n",
    "        if (counter == 0):\n",
    "            Proviences.append(p.text)\n",
    "        if (p.text == ''):\n",
    "            result.append('0')\n",
    "        else:\n",
    "            result.append(p.text)\n",
    "        counter += 1\n",
    "        if (counter == 4) :\n",
    "            break\n",
    "    result_dic = {\n",
    "        'Providence' : result[0],\n",
    "        'Certain': result[1],\n",
    "        'Death': result[2],\n",
    "        'Cured': result[3],\n",
    "        'Date': dt.date.today()\n",
    "    }\n",
    "    result_df = result_df.append(result_dic, ignore_index=True)\n",
    "\n",
    "result_df.to_csv('Provience_ALL_Day_Data.csv', mode = 'a', index = False, header=False, encoding = 'utf-8-sig')\n",
    "\n"
   ]
  },
  {
   "cell_type": "markdown",
   "metadata": {},
   "source": [
    "#### Provience - Day"
   ]
  },
  {
   "cell_type": "code",
   "execution_count": 8,
   "metadata": {},
   "outputs": [],
   "source": [
    "div_unfold = driver.find_element_by_class_name('expand___wz_07')\n",
    "div_unfold_p = div_unfold.find_elements_by_tag_name('p')\n",
    "counter = 0\n",
    "result = []\n",
    "result_dic = {}\n",
    "name = ''\n",
    "result_df = pd.DataFrame(columns=['Certain', 'Death', 'Cured', 'Date'])\n",
    "for p in div_unfold_p:\n",
    "    if (counter == 0):\n",
    "        name = p.text + '_Day_Data.csv'\n",
    "    elif (p.text == ''):\n",
    "        result.append('0')\n",
    "    else:\n",
    "        result.append(p.text)\n",
    "    counter += 1\n",
    "    if (counter == 4) :\n",
    "        break\n",
    "result_dic = {\n",
    "    'Certain': result[0],\n",
    "    'Death': result[1],\n",
    "    'Cured': result[2],\n",
    "    'Date': dt.date.today()\n",
    "}\n",
    "result_df = result_df.append(result_dic, ignore_index=True)\n",
    "result_df.to_csv(name, mode = 'a', index = False, header=False, encoding = 'utf-8-sig')\n",
    "div_folds = driver.find_elements_by_class_name('fold___xVOZX')\n",
    "counter = 0\n",
    "\n",
    "for div_fold in div_folds:\n",
    "    result_df = pd.DataFrame(columns=['Certain', 'Death', 'Cured', 'Date'])\n",
    "    result = []\n",
    "    div_ps = div_fold.find_elements_by_tag_name('p')\n",
    "    counter = 0\n",
    "    for p in div_ps:\n",
    "        if (counter == 0):\n",
    "            name = p.text + '_Day_Data.csv'\n",
    "        elif (p.text == ''):\n",
    "            result.append('0')\n",
    "        else:\n",
    "            result.append(p.text)\n",
    "        counter += 1\n",
    "        if (counter == 4) :\n",
    "            break\n",
    "    result_dic = {\n",
    "        'Certain': result[0],\n",
    "        'Death': result[1],\n",
    "        'Cured': result[2],\n",
    "        'Date': dt.date.today()\n",
    "    }\n",
    "    result_df = result_df.append(result_dic, ignore_index=True)\n",
    "    result_df.to_csv(name, mode = 'a', index = False, header=False, encoding = 'utf-8-sig')"
   ]
  },
  {
   "cell_type": "code",
   "execution_count": 23,
   "metadata": {},
   "outputs": [],
   "source": [
    "action = ActionChains(driver)"
   ]
  },
  {
   "cell_type": "code",
   "execution_count": 32,
   "metadata": {},
   "outputs": [
    {
     "name": "stdout",
     "output_type": "stream",
     "text": [
      "17\n",
      "江西\n",
      "571\n",
      "934\n",
      "1\n",
      "362\n"
     ]
    }
   ],
   "source": [
    "divs = driver.find_elements_by_class_name('fold___xVOZX')\n",
    "print(len(divs[0].text))\n",
    "action.move_to_element_with_offset(divs[2], 0,0)\n",
    "print(divs[2].text)\n",
    "action.click().perform()\n",
    "#div_expand.click()"
   ]
  },
  {
   "cell_type": "markdown",
   "metadata": {},
   "source": [
    "#### Close the driver"
   ]
  },
  {
   "cell_type": "code",
   "execution_count": 9,
   "metadata": {},
   "outputs": [],
   "source": [
    "for handle in handle_list:\n",
    "    driver.switch_to.window(handle)\n",
    "    driver.close()"
   ]
  },
  {
   "cell_type": "code",
   "execution_count": null,
   "metadata": {},
   "outputs": [],
   "source": []
  }
 ],
 "metadata": {
  "kernelspec": {
   "display_name": "Python 3",
   "language": "python",
   "name": "python3"
  },
  "language_info": {
   "codemirror_mode": {
    "name": "ipython",
    "version": 3
   },
   "file_extension": ".py",
   "mimetype": "text/x-python",
   "name": "python",
   "nbconvert_exporter": "python",
   "pygments_lexer": "ipython3",
   "version": "3.7.2"
  }
 },
 "nbformat": 4,
 "nbformat_minor": 2
}
